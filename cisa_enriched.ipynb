{
 "cells": [
  {
   "cell_type": "code",
   "execution_count": null,
   "metadata": {},
   "outputs": [],
   "source": [
    "import pandas as pd\n",
    "import requests\n",
    "import json"
   ]
  },
  {
   "cell_type": "code",
   "execution_count": null,
   "metadata": {},
   "outputs": [],
   "source": [
    "cisa_df = pd.read_json(\"https://www.cisa.gov/sites/default/files/feeds/known_exploited_vulnerabilities.json\")\n",
    "cisa_df = pd.json_normalize(cisa_df['vulnerabilities'])\n",
    "cisa_df = cisa_df.rename(columns={'cveID': 'CVE'})\n"
   ]
  },
  {
   "cell_type": "code",
   "execution_count": null,
   "metadata": {},
   "outputs": [],
   "source": [
    "cisa_df =  cisa_df\n",
    "cves = cisa_df[\"CVE\"].to_list()\n",
    "cves\n",
    "\n",
    "CISA_List = []\n",
    "\n",
    "for cve in cves:\n",
    "    base_url = 'https://cve.circl.lu/api/cve/'\n",
    "    url = ''.join([base_url, cve])\n",
    "    r = requests.get(url)\n",
    "    try:\n",
    "        data = r.json()\n",
    "        CVEPublished = data['Published']\n",
    "        CVEModified = data['Modified']\n",
    "        cvss = data['cvss']\n",
    "        cwe = data['cwe']\n",
    "        references = data['references']\n",
    "        vulnerable_product = data['vulnerable_product']\n",
    "\n",
    "    except:\n",
    "        pass\n",
    "    CISA_List_Temp = (cve, CVEPublished, CVEModified, cvss, cwe, references, vulnerable_product)\n",
    "    CISA_List.append(CISA_List_Temp)"
   ]
  },
  {
   "cell_type": "code",
   "execution_count": null,
   "metadata": {},
   "outputs": [],
   "source": [
    "cisa_enriched_df = pd.DataFrame(CISA_List, columns = [\"CVE\", \"CVE_Published\", \"CVE_Modified\", \"CVSS\", \"CWE\", \"References\", \"Vulnerable_Products\"])"
   ]
  },
  {
   "cell_type": "code",
   "execution_count": null,
   "metadata": {},
   "outputs": [],
   "source": [
    "cisa_data = cisa_enriched_df.merge(cisa_df, on='CVE', how='outer')\n",
    "cisa_data  = cisa_data.rename(columns={'dueDate': 'CISA_Due_Date', 'requiredAction' : 'Required_Action', 'shortDescription' : \"Description\", 'vendorProject': 'Vendor', 'product' : 'Product', 'vulnerabilityName' : 'Vulnerability_Name', 'dateAdded' : 'CISA_Date_Added'})\n",
    "cisa_data= cisa_data[[ 'CVE', 'Vulnerability_Name', 'Description', 'Vendor', 'Product', 'CVSS', 'CWE', 'Required_Action', 'CVE_Published', 'CVE_Modified', 'CISA_Date_Added', 'CISA_Due_Date', 'References', 'Vulnerable_Products']]"
   ]
  },
  {
   "cell_type": "code",
   "execution_count": null,
   "metadata": {},
   "outputs": [],
   "source": [
    "\n",
    "cisa_data.to_csv('cisa_enriched.csv', index=False)"
   ]
  },
  {
   "cell_type": "code",
   "execution_count": null,
   "metadata": {},
   "outputs": [],
   "source": [
    "result =  cisa_data.to_json(orient=\"records\")\n",
    "parsed = json.loads(result)\n",
    "print(json.dumps(parsed, indent=4))\n",
    "\n",
    "with open('cisa_enriched.json', 'w', encoding='utf-8') as f:\n",
    "    json.dump(parsed, f, ensure_ascii=False, indent=4)\n"
   ]
  }
 ],
 "metadata": {
  "interpreter": {
   "hash": "aee8b7b246df8f9039afb4144a1f6fd8d2ca17a180786b69acc140d282b71a49"
  },
  "kernelspec": {
   "display_name": "Python 3.9.9 64-bit",
   "language": "python",
   "name": "python3"
  },
  "language_info": {
   "codemirror_mode": {
    "name": "ipython",
    "version": 3
   },
   "file_extension": ".py",
   "mimetype": "text/x-python",
   "name": "python",
   "nbconvert_exporter": "python",
   "pygments_lexer": "ipython3",
   "version": "3.9.9"
  },
  "orig_nbformat": 4
 },
 "nbformat": 4,
 "nbformat_minor": 2
}
